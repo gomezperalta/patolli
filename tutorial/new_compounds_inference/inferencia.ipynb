{
 "cells": [
  {
   "cell_type": "markdown",
   "metadata": {},
   "source": [
    "# Inferencia de nuevas perovskitas"
   ]
  },
  {
   "cell_type": "markdown",
   "metadata": {},
   "source": [
    "En este notebook se utilizará la Red Neuronal Artificial para inferir nuevos compuestos que puedan cristalizar en la perovskita de mayor simetría (el aristotipo). Esta perovskita corresponde al grupo espacial no. 221."
   ]
  },
  {
   "cell_type": "markdown",
   "metadata": {},
   "source": [
    "Vamos a comenzar por cargar todas las librerías necesarias. Ejecuta el siguiente recuadro."
   ]
  },
  {
   "cell_type": "code",
   "execution_count": 1,
   "metadata": {},
   "outputs": [
    {
     "ename": "ModuleNotFoundError",
     "evalue": "No module named 'pymatgen'",
     "output_type": "error",
     "traceback": [
      "\u001b[1;31m---------------------------------------------------------------------------\u001b[0m",
      "\u001b[1;31mModuleNotFoundError\u001b[0m                       Traceback (most recent call last)",
      "\u001b[1;32m<ipython-input-1-9fe12e8a55d2>\u001b[0m in \u001b[0;36m<module>\u001b[1;34m()\u001b[0m\n\u001b[0;32m      4\u001b[0m \u001b[1;32mimport\u001b[0m \u001b[0mgrow_crystal\u001b[0m\u001b[1;33m\u001b[0m\u001b[0m\n\u001b[0;32m      5\u001b[0m \u001b[1;32mimport\u001b[0m \u001b[0mmatplotlib\u001b[0m\u001b[1;33m.\u001b[0m\u001b[0mpyplot\u001b[0m \u001b[1;32mas\u001b[0m \u001b[0mplt\u001b[0m\u001b[1;33m\u001b[0m\u001b[0m\n\u001b[1;32m----> 6\u001b[1;33m \u001b[1;32mimport\u001b[0m \u001b[0mneighdist\u001b[0m\u001b[1;33m\u001b[0m\u001b[0m\n\u001b[0m\u001b[0;32m      7\u001b[0m \u001b[1;32mimport\u001b[0m \u001b[0mpatolli\u001b[0m\u001b[1;33m\u001b[0m\u001b[0m\n\u001b[0;32m      8\u001b[0m \u001b[1;32mimport\u001b[0m \u001b[0mkeras\u001b[0m\u001b[1;33m.\u001b[0m\u001b[0mmodels\u001b[0m \u001b[1;32mas\u001b[0m \u001b[0mmodels\u001b[0m\u001b[1;33m\u001b[0m\u001b[0m\n",
      "\u001b[1;32mC:\\Users\\User\\Documents\\Aplicacion_AI_Fisica\\Inferencia_perovskitas\\neighdist.py\u001b[0m in \u001b[0;36m<module>\u001b[1;34m()\u001b[0m\n\u001b[0;32m      7\u001b[0m \"\"\"\n\u001b[0;32m      8\u001b[0m \u001b[1;33m\u001b[0m\u001b[0m\n\u001b[1;32m----> 9\u001b[1;33m \u001b[1;32mimport\u001b[0m \u001b[0mWyckoff_finder\u001b[0m \u001b[1;32mas\u001b[0m \u001b[0mwf\u001b[0m\u001b[1;33m\u001b[0m\u001b[0m\n\u001b[0m\u001b[0;32m     10\u001b[0m \u001b[1;32mimport\u001b[0m \u001b[0mpandas\u001b[0m \u001b[1;32mas\u001b[0m \u001b[0mpd\u001b[0m\u001b[1;33m\u001b[0m\u001b[0m\n\u001b[0;32m     11\u001b[0m \u001b[1;32mimport\u001b[0m \u001b[0mnumpy\u001b[0m \u001b[1;32mas\u001b[0m \u001b[0mnp\u001b[0m\u001b[1;33m\u001b[0m\u001b[0m\n",
      "\u001b[1;32mC:\\Users\\User\\Documents\\Aplicacion_AI_Fisica\\Inferencia_perovskitas\\Wyckoff_finder.py\u001b[0m in \u001b[0;36m<module>\u001b[1;34m()\u001b[0m\n\u001b[0;32m      7\u001b[0m \"\"\"\n\u001b[0;32m      8\u001b[0m \u001b[1;32mimport\u001b[0m \u001b[0mpandas\u001b[0m \u001b[1;32mas\u001b[0m \u001b[0mpd\u001b[0m\u001b[1;33m\u001b[0m\u001b[0m\n\u001b[1;32m----> 9\u001b[1;33m \u001b[1;32mimport\u001b[0m \u001b[0mpymatgen\u001b[0m \u001b[1;32mas\u001b[0m \u001b[0mpg\u001b[0m\u001b[1;33m\u001b[0m\u001b[0m\n\u001b[0m\u001b[0;32m     10\u001b[0m \u001b[1;32mimport\u001b[0m \u001b[0mnumpy\u001b[0m \u001b[1;32mas\u001b[0m \u001b[0mnp\u001b[0m\u001b[1;33m\u001b[0m\u001b[0m\n\u001b[0;32m     11\u001b[0m \u001b[1;32mimport\u001b[0m \u001b[0mos\u001b[0m\u001b[1;33m\u001b[0m\u001b[0m\n",
      "\u001b[1;31mModuleNotFoundError\u001b[0m: No module named 'pymatgen'"
     ]
    }
   ],
   "source": [
    "import itertools as it\n",
    "import pandas as pd\n",
    "import numpy as np\n",
    "import grow_crystal \n",
    "import matplotlib.pyplot as plt\n",
    "import neighdist\n",
    "import patolli\n",
    "import keras.models as models"
   ]
  },
  {
   "cell_type": "markdown",
   "metadata": {},
   "source": [
    "Ahora cargaremos el archivo datosrahm.csv, que contiene el radio atómico y la electronegatividad de Pauling de cada elemento."
   ]
  },
  {
   "cell_type": "code",
   "execution_count": 4,
   "metadata": {
    "collapsed": true
   },
   "outputs": [],
   "source": [
    "datos = pd.read_csv('datosrahm.csv')\n",
    "\n",
    "maindict = {}\n",
    "for row in range(datos.shape[0]):\n",
    "    maindict[datos['Symbol'][row]] = \\\n",
    "    datos.iloc[row,:][['elecPau','atradrahm']].values"
   ]
  },
  {
   "cell_type": "markdown",
   "metadata": {
    "collapsed": true
   },
   "source": [
    "Al ejecutar el recuadro anterior, se crea un diccionario de Python con el nombre de <i>maindict</i>. Ese diccionario tiene como 'keys' a los elementos y como 'values' un array con la electronegatividad y el radio atómico, en ese orden."
   ]
  },
  {
   "cell_type": "markdown",
   "metadata": {},
   "source": [
    "Ahora cargaremos el mejor modelo (archivo.h5) y el diccionario que contiene los promedios y las desviaciones estándar de cada rasgo (archivo.npy). Si todavía no están esos archivos en esta carpeta, cópialos ahora."
   ]
  },
  {
   "cell_type": "code",
   "execution_count": 5,
   "metadata": {},
   "outputs": [
    {
     "ename": "NameError",
     "evalue": "name 'models' is not defined",
     "output_type": "error",
     "traceback": [
      "\u001b[1;31m---------------------------------------------------------------------------\u001b[0m",
      "\u001b[1;31mNameError\u001b[0m                                 Traceback (most recent call last)",
      "\u001b[1;32m<ipython-input-5-cc994de09736>\u001b[0m in \u001b[0;36m<module>\u001b[1;34m()\u001b[0m\n\u001b[0;32m      1\u001b[0m \u001b[0mmodel_dict\u001b[0m \u001b[1;33m=\u001b[0m \u001b[0mnp\u001b[0m\u001b[1;33m.\u001b[0m\u001b[0mload\u001b[0m\u001b[1;33m(\u001b[0m\u001b[1;34m'feature_standarisation.npy'\u001b[0m\u001b[1;33m)\u001b[0m\u001b[1;33m.\u001b[0m\u001b[0mitem\u001b[0m\u001b[1;33m(\u001b[0m\u001b[1;33m)\u001b[0m\u001b[1;33m\u001b[0m\u001b[0m\n\u001b[1;32m----> 2\u001b[1;33m \u001b[0mmodel\u001b[0m \u001b[1;33m=\u001b[0m \u001b[0mmodels\u001b[0m\u001b[1;33m.\u001b[0m\u001b[0mload_model\u001b[0m\u001b[1;33m(\u001b[0m\u001b[1;34m'best_model.h5'\u001b[0m\u001b[1;33m)\u001b[0m\u001b[1;33m\u001b[0m\u001b[0m\n\u001b[0m",
      "\u001b[1;31mNameError\u001b[0m: name 'models' is not defined"
     ]
    }
   ],
   "source": [
    "model_dict = np.load('feature_standarisation.npy').item()\n",
    "model = models.load_model('best_model.h5')"
   ]
  },
  {
   "cell_type": "code",
   "execution_count": 6,
   "metadata": {},
   "outputs": [
    {
     "ename": "NameError",
     "evalue": "name 'model' is not defined",
     "output_type": "error",
     "traceback": [
      "\u001b[1;31m---------------------------------------------------------------------------\u001b[0m",
      "\u001b[1;31mNameError\u001b[0m                                 Traceback (most recent call last)",
      "\u001b[1;32m<ipython-input-6-571d20e77e20>\u001b[0m in \u001b[0;36m<module>\u001b[1;34m()\u001b[0m\n\u001b[0;32m      1\u001b[0m \u001b[1;31m#Esto es un resumen del modelo entrenado. Para más información, ve a https://keras.io/models/about-keras-models/\u001b[0m\u001b[1;33m\u001b[0m\u001b[1;33m\u001b[0m\u001b[0m\n\u001b[1;32m----> 2\u001b[1;33m \u001b[0mmodel\u001b[0m\u001b[1;33m.\u001b[0m\u001b[0msummary\u001b[0m\u001b[1;33m(\u001b[0m\u001b[1;33m)\u001b[0m\u001b[1;33m\u001b[0m\u001b[0m\n\u001b[0m",
      "\u001b[1;31mNameError\u001b[0m: name 'model' is not defined"
     ]
    }
   ],
   "source": [
    "#Esto es un resumen del modelo entrenado. Para más información, ve a https://keras.io/models/about-keras-models/\n",
    "model.summary()"
   ]
  },
  {
   "cell_type": "markdown",
   "metadata": {},
   "source": [
    "Debido a que se modelaran perovskitas cúbicas, necesitamos definir la posición de los átomos dentro la celda unitaria con los sitios de Wyckoff ocupados. En la perovskita cúbica ideal, éstos son:"
   ]
  },
  {
   "cell_type": "code",
   "execution_count": 7,
   "metadata": {
    "collapsed": true
   },
   "outputs": [],
   "source": [
    "wyckcub = {0:{'A' : np.asarray([[0.0,0.0,0.0]])},\n",
    "          1:{'B' : np.asarray([[0.5,0.5,0.5]])},\n",
    "          2:{'anion' : np.asarray([[0.5,0.5,0.0],[0.5,0.0,0.5],[0.0,0.5,0.5]])}}"
   ]
  },
  {
   "cell_type": "markdown",
   "metadata": {},
   "source": [
    "<b> NO MODIFIQUES LOS VALORES DEL RECUADRO ANTERIOR </b>"
   ]
  },
  {
   "cell_type": "markdown",
   "metadata": {},
   "source": [
    "Los átomos A son los átomos con geometría dodecaédrica, aquellos B se ubican en sitios con geometría octaédrica. Los aniones conectan a los octaedros mediante la compartición de vértices."
   ]
  },
  {
   "cell_type": "markdown",
   "metadata": {},
   "source": [
    "Ahora hay que definir un parámetro de red con el que vamos a probar."
   ]
  },
  {
   "cell_type": "code",
   "execution_count": 12,
   "metadata": {
    "collapsed": true
   },
   "outputs": [],
   "source": [
    "#Cuando quieras, modifica el valor que aquí se declara.\n",
    "lattice_parameter = 3.795"
   ]
  },
  {
   "cell_type": "code",
   "execution_count": 9,
   "metadata": {
    "collapsed": true
   },
   "outputs": [],
   "source": [
    "#Esta es la distancia de corte de la función de ambientes químicos. No la modifiques.\n",
    "dist = 25"
   ]
  },
  {
   "cell_type": "markdown",
   "metadata": {},
   "source": [
    "A continuación, define qué elementos ocuparán los sitios A, B y X:"
   ]
  },
  {
   "cell_type": "code",
   "execution_count": 13,
   "metadata": {
    "collapsed": true
   },
   "outputs": [],
   "source": [
    "#Define a los elementos dentro de los ''\n",
    "A = 'Ca'\n",
    "B = 'Ti'\n",
    "anion = 'O'"
   ]
  },
  {
   "cell_type": "code",
   "execution_count": 14,
   "metadata": {
    "collapsed": true
   },
   "outputs": [],
   "source": [
    "#Con este recuadro, se guardan las posiciones de los átomos dentro de la celda unitaria en un archivo .xyz\n",
    "positions = lattice_parameter*np.concatenate((wyckcub[0]['A'],wyckcub[1]['B'], wyckcub[2]['anion']),axis=0)\n",
    "elements = [A,B,anion,anion,anion]\n",
    "\n",
    "df = pd.DataFrame({'element':elements, 'x':positions[:,0], 'y':positions[:,1],'z':positions[:,2]})\n",
    "\n",
    "with open(A+B+anion+'3.xyz','w') as f:\n",
    "    f.write(str(len(df))+ '\\n'+'\\n')\n",
    "    for row in range(df.shape[0]):\n",
    "        f.write(df['element'][row] + '    ' + \"%.4f\" % np.round(df['x'][row],4) + '    '  + \\\n",
    "                \"%.4f\" % np.round(df['y'][row],4) + '    ' + \"%.4f\" % np.round(df['z'][row],4) + '\\n')\n"
   ]
  },
  {
   "cell_type": "code",
   "execution_count": 15,
   "metadata": {},
   "outputs": [
    {
     "data": {
      "text/html": [
       "<div>\n",
       "<style>\n",
       "    .dataframe thead tr:only-child th {\n",
       "        text-align: right;\n",
       "    }\n",
       "\n",
       "    .dataframe thead th {\n",
       "        text-align: left;\n",
       "    }\n",
       "\n",
       "    .dataframe tbody tr th {\n",
       "        vertical-align: top;\n",
       "    }\n",
       "</style>\n",
       "<table border=\"1\" class=\"dataframe\">\n",
       "  <thead>\n",
       "    <tr style=\"text-align: right;\">\n",
       "      <th></th>\n",
       "      <th>element</th>\n",
       "      <th>x</th>\n",
       "      <th>y</th>\n",
       "      <th>z</th>\n",
       "    </tr>\n",
       "  </thead>\n",
       "  <tbody>\n",
       "    <tr>\n",
       "      <th>0</th>\n",
       "      <td>Ca</td>\n",
       "      <td>0.0000</td>\n",
       "      <td>0.0000</td>\n",
       "      <td>0.0000</td>\n",
       "    </tr>\n",
       "    <tr>\n",
       "      <th>1</th>\n",
       "      <td>Ti</td>\n",
       "      <td>1.8975</td>\n",
       "      <td>1.8975</td>\n",
       "      <td>1.8975</td>\n",
       "    </tr>\n",
       "    <tr>\n",
       "      <th>2</th>\n",
       "      <td>O</td>\n",
       "      <td>1.8975</td>\n",
       "      <td>1.8975</td>\n",
       "      <td>0.0000</td>\n",
       "    </tr>\n",
       "    <tr>\n",
       "      <th>3</th>\n",
       "      <td>O</td>\n",
       "      <td>1.8975</td>\n",
       "      <td>0.0000</td>\n",
       "      <td>1.8975</td>\n",
       "    </tr>\n",
       "    <tr>\n",
       "      <th>4</th>\n",
       "      <td>O</td>\n",
       "      <td>0.0000</td>\n",
       "      <td>1.8975</td>\n",
       "      <td>1.8975</td>\n",
       "    </tr>\n",
       "  </tbody>\n",
       "</table>\n",
       "</div>"
      ],
      "text/plain": [
       "  element       x       y       z\n",
       "0      Ca  0.0000  0.0000  0.0000\n",
       "1      Ti  1.8975  1.8975  1.8975\n",
       "2       O  1.8975  1.8975  0.0000\n",
       "3       O  1.8975  0.0000  1.8975\n",
       "4       O  0.0000  1.8975  1.8975"
      ]
     },
     "execution_count": 15,
     "metadata": {},
     "output_type": "execute_result"
    }
   ],
   "source": [
    "df"
   ]
  },
  {
   "cell_type": "markdown",
   "metadata": {},
   "source": [
    "Vamos a obtener los rasgos en bruto (raw_features) para posteriormente calcular los rasgos geométricos y de empaquetamiento y las funciones de ambiente químico."
   ]
  },
  {
   "cell_type": "code",
   "execution_count": null,
   "metadata": {
    "collapsed": true
   },
   "outputs": [],
   "source": [
    "def get_raw_features(elements = [['elemento_A'],['elemento_B'],['elemento_anion']]):\n",
    "    compositions = [[1.0], [1.0],[1.0]]\n",
    "    multiplicities = [[1],[1],[3]]\n",
    "    raw_features = [np.dot(np.asarray(subind), np.asarray([maindict.get(item,None) \\\n",
    "              for item in site])) for site, subind in zip (elements, compositions)]\n",
    "\n",
    "    raw_features = np.asarray(raw_features)\n",
    "    raw_features = np.concatenate((np.zeros((1,raw_features.shape[1])),raw_features), axis = 0)\n",
    "    \n",
    "    return raw_features"
   ]
  },
  {
   "cell_type": "code",
   "execution_count": null,
   "metadata": {
    "collapsed": true
   },
   "outputs": [],
   "source": [
    "def compute_local_functions(raw_features = np.zeros((4,2))):\n",
    "    radii = raw_features[:,1]\n",
    "    elec = raw_features[:,0]\n",
    "\n",
    "    elec = elec.reshape((4,1))\n",
    "    delec = np.repeat(elec[:,np.newaxis],4,axis=2) - np.repeat(elec[:,np.newaxis],4,axis=2).T\n",
    "    delec = delec.reshape((delec.shape[0],delec.shape[2]))\n",
    "    fr = np.zeros((1,4,4-1))\n",
    "\n",
    "    p, z, n, m = neighdist.positions(pos = wyckcub, angles = [90,90,90], abc = [lattice_parameter,]*3, dist = dist)\n",
    "    r = neighdist.rij(mult=m,p=p,zero=z, dist=dist, radii = np.ravel(radii))\n",
    "\n",
    "    temp = np.multiply(r,delec)\n",
    "    temp = temp[~np.eye(temp.shape[0], dtype=bool)].reshape(temp.shape[0],-1)\n",
    "    fr[0] = temp\n",
    "\n",
    "    fr = fr.reshape((fr.shape[0],1,fr.shape[1]*fr.shape[2]))\n",
    "    \n",
    "    return fr"
   ]
  },
  {
   "cell_type": "code",
   "execution_count": null,
   "metadata": {
    "collapsed": true
   },
   "outputs": [],
   "source": [
    "raw_features = get_raw_features(elements = [[A],[B],[anion]])"
   ]
  },
  {
   "cell_type": "code",
   "execution_count": null,
   "metadata": {
    "collapsed": true
   },
   "outputs": [],
   "source": [
    "print(raw_features)\n",
    "print('El número de sitios totales en la descripción de cada compuesto:', raw_features.shape[0])\n",
    "print('La primera columna contiene a la electronegatividad y la segunda al radio atómico promedio de cada sitio, en ese orden:')"
   ]
  },
  {
   "cell_type": "code",
   "execution_count": null,
   "metadata": {
    "collapsed": true
   },
   "outputs": [],
   "source": [
    "quot = patolli.compute_quotients(X = raw_features[np.newaxis,:,:])\n",
    "local_functions = compute_local_functions(raw_features=raw_features)"
   ]
  },
  {
   "cell_type": "markdown",
   "metadata": {},
   "source": [
    "Ahora se concatenan los rasgos de empaquetamiento y las funciones de localidad."
   ]
  },
  {
   "cell_type": "code",
   "execution_count": null,
   "metadata": {
    "collapsed": true
   },
   "outputs": [],
   "source": [
    "x = np.concatenate((quot,local_functions), axis=2)"
   ]
  },
  {
   "cell_type": "markdown",
   "metadata": {},
   "source": [
    "A continuación, se estandarizan los datos de entrada del compuesto propuesto:"
   ]
  },
  {
   "cell_type": "code",
   "execution_count": null,
   "metadata": {
    "collapsed": true
   },
   "outputs": [],
   "source": [
    "X = (x - model_dict['mean'])/model_dict['std']"
   ]
  },
  {
   "cell_type": "markdown",
   "metadata": {},
   "source": [
    "Y se efectúa la inferencia enseguida:"
   ]
  },
  {
   "cell_type": "code",
   "execution_count": null,
   "metadata": {
    "collapsed": true
   },
   "outputs": [],
   "source": [
    "y = model.predict(X[:,0,:])"
   ]
  },
  {
   "cell_type": "code",
   "execution_count": null,
   "metadata": {
    "collapsed": true
   },
   "outputs": [],
   "source": [
    "print('El compuesto, de formula ' + A + B + anion + '3 y con el parametro de red ' + str(lattice_parameter) + ' angstroms,' +'\\n' + \\\n",
    "      '   tiene una probabilidad de cristalizar en perovskita cúbica de ' + str(y))"
   ]
  },
  {
   "cell_type": "code",
   "execution_count": null,
   "metadata": {
    "collapsed": true
   },
   "outputs": [],
   "source": []
  }
 ],
 "metadata": {
  "kernelspec": {
   "display_name": "Python 3",
   "language": "python",
   "name": "python3"
  },
  "language_info": {
   "codemirror_mode": {
    "name": "ipython",
    "version": 3
   },
   "file_extension": ".py",
   "mimetype": "text/x-python",
   "name": "python",
   "nbconvert_exporter": "python",
   "pygments_lexer": "ipython3",
   "version": "3.6.1"
  }
 },
 "nbformat": 4,
 "nbformat_minor": 2
}
